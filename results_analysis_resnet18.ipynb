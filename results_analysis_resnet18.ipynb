{
 "cells": [
  {
   "cell_type": "code",
   "execution_count": 33,
   "metadata": {},
   "outputs": [],
   "source": [
    "import tqdm\n",
    "import torch\n",
    "import numpy as np\n",
    "import seaborn as sns\n",
    "\n",
    "import matplotlib.pyplot as plt\n",
    "from datasets import load_dataset\n",
    "from torch.utils.data import DataLoader\n",
    "from torch.nn.functional import normalize\n",
    "from src.modeling.network.backbone import ResNet1D, ResNetModel\n",
    "from src.data.transform import generate_signal_and_label\n",
    "from sklearn.metrics import ConfusionMatrixDisplay, classification_report, multilabel_confusion_matrix\n",
    "\n",
    "from torchvision import transforms\n",
    "from src.config import config\n",
    "from src.data.stats import GetMeanStd\n",
    "from src.utils.registry import REGISTRY\n",
    "from src.utils.trainer import Trainer\n",
    "from src.modeling.solver.loss import SigmoidFocalLoss\n",
    "from src.modeling.network.backbone import ResNet1D, ResNetModel, InceptionModel, LSTMNetwork\n",
    "from src.data.transform import generate_image_and_binary_label, generate_image_and_label\n",
    "from src.data.transform import generate_signal_and_binary_label, generate_signal_and_label\n",
    "from src.utils.callbacks import MetricsCallback, EarlyStopper, TensorBoardLogger, CheckpointSaver"
   ]
  },
  {
   "cell_type": "code",
   "execution_count": 34,
   "metadata": {},
   "outputs": [
    {
     "name": "stderr",
     "output_type": "stream",
     "text": [
      "Reusing dataset slither-audited-smart-contracts (C:\\Users\\user\\.cache\\huggingface\\datasets\\mwritescode___slither-audited-smart-contracts\\big-multilabel\\1.1.0\\4cf503b59ce9d3157914e47f6253de773b7ab828f46642685d4b470b88ca1f13)\n",
      "Loading cached processed dataset at C:\\Users\\user\\.cache\\huggingface\\datasets\\mwritescode___slither-audited-smart-contracts\\big-multilabel\\1.1.0\\4cf503b59ce9d3157914e47f6253de773b7ab828f46642685d4b470b88ca1f13\\cache-14cd3c70d5f4f921.arrow\n",
      "Loading cached processed dataset at C:\\Users\\user\\.cache\\huggingface\\datasets\\mwritescode___slither-audited-smart-contracts\\big-multilabel\\1.1.0\\4cf503b59ce9d3157914e47f6253de773b7ab828f46642685d4b470b88ca1f13\\cache-90d55d47ce7b32be.arrow\n",
      "Computing stats..: 100%|█████████████████████████████████████████████████████████████████████████████████████████████████████████████████████████████████████████████████████| 996/996 [00:27<00:00, 35.90it/s]\n"
     ]
    }
   ],
   "source": [
    "MAX_LEN = 16284\n",
    "BATCH_SIZE = 16\n",
    "DEVICE = 'cuda'\n",
    "PATH = 'checkpoints/resnet_18.pkl'\n",
    "\n",
    "CFG_PATH = \"src/config/experiments/resnet18.yaml\"\n",
    "\n",
    "cfg = config.get_cfg_defaults()\n",
    "cfg.merge_from_file(CFG_PATH)\n",
    "\n",
    "test_ds = load_dataset(\"mwritescode/slither-audited-smart-contracts\", 'big-multilabel', split='test', ignore_verifications=True)\n",
    "test_ds = test_ds.filter(lambda elem: elem['bytecode'] != '0x')\n",
    "\n",
    "\n",
    "if cfg.DATASET.RGB_IMAGES and cfg.DATASET.BINARY_LABELS:\n",
    "    map_func = generate_image_and_binary_label\n",
    "elif cfg.DATASET.RGB_IMAGES and not cfg.DATASET.BINARY_LABELS:\n",
    "    map_func = generate_image_and_label\n",
    "elif not cfg.DATASET.RGB_IMAGES and cfg.DATASET.BINARY_LABELS:\n",
    "    map_func = generate_signal_and_binary_label\n",
    "else:\n",
    "    map_func = generate_signal_and_label\n",
    "    \n",
    "if cfg.DATASET.RGB_IMAGES and cfg.DATASET.BINARY_LABELS:\n",
    "    map_func = generate_image_and_binary_label\n",
    "elif cfg.DATASET.RGB_IMAGES and not cfg.DATASET.BINARY_LABELS:\n",
    "    map_func = generate_image_and_label\n",
    "elif not cfg.DATASET.RGB_IMAGES and cfg.DATASET.BINARY_LABELS:\n",
    "    map_func = generate_signal_and_binary_label\n",
    "else:\n",
    "    map_func = generate_signal_and_label\n",
    "\n",
    "test_ds = test_ds.map(map_func, remove_columns=['address', 'source_code', 'bytecode', 'slither'])\n",
    "\n",
    "max_len = cfg.DATASET.MAX_SEQ_LEN\n",
    "\n",
    "if cfg.DATASET.RGB_IMAGES:\n",
    "    img_size = cfg.DATASET.IMG_SHAPE\n",
    "\n",
    "    if cfg.DATASET.USE_IMAGENET_STATS:\n",
    "        mean, std = IMAGENET_MEAN, IMAGENET_STD\n",
    "    else:\n",
    "        get_stats = GetMeanStd(test_ds, batch_size=16, img_size=img_size)\n",
    "        mean, std = get_stats()\n",
    "\n",
    "    img_transform = transforms.Compose([\n",
    "        transforms.Resize(img_size),\n",
    "        transforms.CenterCrop(img_size),\n",
    "        transforms.ToTensor(),\n",
    "        transforms.Normalize(mean=mean, std=std),\n",
    "    ])\n",
    "\n",
    "padding_val = 0 if cfg.DATASET.NORMALIZE else 256\n",
    "\n",
    "def img_label_to_tensor(examples):\n",
    "    if 'image' in examples.keys():\n",
    "        if cfg.DATASET.RGB_IMAGES:\n",
    "            examples['image'] = [img_transform(elem) for elem in examples['image']]\n",
    "        else:\n",
    "            examples['image'] = [np.pad(img, pad_width=(0, max_len - len(img)), constant_values=padding_val) if len(img) < max_len else img[:max_len] for img in examples['image']]\n",
    "            if cfg.DATASET.NORMALIZE:\n",
    "                examples['image'] = [torch.unsqueeze(normalize(torch.tensor(img).float(), dim=0), dim=0) for img in examples['image']]\n",
    "            else:\n",
    "                examples['image'] = [torch.tensor(img) for img in examples['image']]\n",
    "\n",
    "    if 'label' in examples.keys():\n",
    "        if cfg.DATASET.BINARY_LABELS:\n",
    "            examples['label'] = torch.unsqueeze(examples['label'], -1)\n",
    "        else:\n",
    "            examples['label'] = torch.tensor(examples['label'])\n",
    "        return examples\n",
    "\n",
    "test_ds.set_transform(img_label_to_tensor)"
   ]
  },
  {
   "cell_type": "code",
   "execution_count": 35,
   "metadata": {},
   "outputs": [],
   "source": [
    "loader_test = DataLoader(test_ds, batch_size=BATCH_SIZE)"
   ]
  },
  {
   "cell_type": "code",
   "execution_count": 36,
   "metadata": {},
   "outputs": [
    {
     "data": {
      "text/plain": [
       "ResNetModel(\n",
       "  (resnet): ResNet(\n",
       "    (conv1): Conv2d(3, 64, kernel_size=(7, 7), stride=(2, 2), padding=(3, 3), bias=False)\n",
       "    (bn1): BatchNorm2d(64, eps=1e-05, momentum=0.1, affine=True, track_running_stats=True)\n",
       "    (relu): ReLU(inplace=True)\n",
       "    (maxpool): MaxPool2d(kernel_size=3, stride=2, padding=1, dilation=1, ceil_mode=False)\n",
       "    (layer1): Sequential(\n",
       "      (0): BasicBlock(\n",
       "        (conv1): Conv2d(64, 64, kernel_size=(3, 3), stride=(1, 1), padding=(1, 1), bias=False)\n",
       "        (bn1): BatchNorm2d(64, eps=1e-05, momentum=0.1, affine=True, track_running_stats=True)\n",
       "        (relu): ReLU(inplace=True)\n",
       "        (conv2): Conv2d(64, 64, kernel_size=(3, 3), stride=(1, 1), padding=(1, 1), bias=False)\n",
       "        (bn2): BatchNorm2d(64, eps=1e-05, momentum=0.1, affine=True, track_running_stats=True)\n",
       "      )\n",
       "      (1): BasicBlock(\n",
       "        (conv1): Conv2d(64, 64, kernel_size=(3, 3), stride=(1, 1), padding=(1, 1), bias=False)\n",
       "        (bn1): BatchNorm2d(64, eps=1e-05, momentum=0.1, affine=True, track_running_stats=True)\n",
       "        (relu): ReLU(inplace=True)\n",
       "        (conv2): Conv2d(64, 64, kernel_size=(3, 3), stride=(1, 1), padding=(1, 1), bias=False)\n",
       "        (bn2): BatchNorm2d(64, eps=1e-05, momentum=0.1, affine=True, track_running_stats=True)\n",
       "      )\n",
       "    )\n",
       "    (layer2): Sequential(\n",
       "      (0): BasicBlock(\n",
       "        (conv1): Conv2d(64, 128, kernel_size=(3, 3), stride=(2, 2), padding=(1, 1), bias=False)\n",
       "        (bn1): BatchNorm2d(128, eps=1e-05, momentum=0.1, affine=True, track_running_stats=True)\n",
       "        (relu): ReLU(inplace=True)\n",
       "        (conv2): Conv2d(128, 128, kernel_size=(3, 3), stride=(1, 1), padding=(1, 1), bias=False)\n",
       "        (bn2): BatchNorm2d(128, eps=1e-05, momentum=0.1, affine=True, track_running_stats=True)\n",
       "        (downsample): Sequential(\n",
       "          (0): Conv2d(64, 128, kernel_size=(1, 1), stride=(2, 2), bias=False)\n",
       "          (1): BatchNorm2d(128, eps=1e-05, momentum=0.1, affine=True, track_running_stats=True)\n",
       "        )\n",
       "      )\n",
       "      (1): BasicBlock(\n",
       "        (conv1): Conv2d(128, 128, kernel_size=(3, 3), stride=(1, 1), padding=(1, 1), bias=False)\n",
       "        (bn1): BatchNorm2d(128, eps=1e-05, momentum=0.1, affine=True, track_running_stats=True)\n",
       "        (relu): ReLU(inplace=True)\n",
       "        (conv2): Conv2d(128, 128, kernel_size=(3, 3), stride=(1, 1), padding=(1, 1), bias=False)\n",
       "        (bn2): BatchNorm2d(128, eps=1e-05, momentum=0.1, affine=True, track_running_stats=True)\n",
       "      )\n",
       "    )\n",
       "    (layer3): Sequential(\n",
       "      (0): BasicBlock(\n",
       "        (conv1): Conv2d(128, 256, kernel_size=(3, 3), stride=(2, 2), padding=(1, 1), bias=False)\n",
       "        (bn1): BatchNorm2d(256, eps=1e-05, momentum=0.1, affine=True, track_running_stats=True)\n",
       "        (relu): ReLU(inplace=True)\n",
       "        (conv2): Conv2d(256, 256, kernel_size=(3, 3), stride=(1, 1), padding=(1, 1), bias=False)\n",
       "        (bn2): BatchNorm2d(256, eps=1e-05, momentum=0.1, affine=True, track_running_stats=True)\n",
       "        (downsample): Sequential(\n",
       "          (0): Conv2d(128, 256, kernel_size=(1, 1), stride=(2, 2), bias=False)\n",
       "          (1): BatchNorm2d(256, eps=1e-05, momentum=0.1, affine=True, track_running_stats=True)\n",
       "        )\n",
       "      )\n",
       "      (1): BasicBlock(\n",
       "        (conv1): Conv2d(256, 256, kernel_size=(3, 3), stride=(1, 1), padding=(1, 1), bias=False)\n",
       "        (bn1): BatchNorm2d(256, eps=1e-05, momentum=0.1, affine=True, track_running_stats=True)\n",
       "        (relu): ReLU(inplace=True)\n",
       "        (conv2): Conv2d(256, 256, kernel_size=(3, 3), stride=(1, 1), padding=(1, 1), bias=False)\n",
       "        (bn2): BatchNorm2d(256, eps=1e-05, momentum=0.1, affine=True, track_running_stats=True)\n",
       "      )\n",
       "    )\n",
       "    (layer4): Sequential(\n",
       "      (0): BasicBlock(\n",
       "        (conv1): Conv2d(256, 512, kernel_size=(3, 3), stride=(2, 2), padding=(1, 1), bias=False)\n",
       "        (bn1): BatchNorm2d(512, eps=1e-05, momentum=0.1, affine=True, track_running_stats=True)\n",
       "        (relu): ReLU(inplace=True)\n",
       "        (conv2): Conv2d(512, 512, kernel_size=(3, 3), stride=(1, 1), padding=(1, 1), bias=False)\n",
       "        (bn2): BatchNorm2d(512, eps=1e-05, momentum=0.1, affine=True, track_running_stats=True)\n",
       "        (downsample): Sequential(\n",
       "          (0): Conv2d(256, 512, kernel_size=(1, 1), stride=(2, 2), bias=False)\n",
       "          (1): BatchNorm2d(512, eps=1e-05, momentum=0.1, affine=True, track_running_stats=True)\n",
       "        )\n",
       "      )\n",
       "      (1): BasicBlock(\n",
       "        (conv1): Conv2d(512, 512, kernel_size=(3, 3), stride=(1, 1), padding=(1, 1), bias=False)\n",
       "        (bn1): BatchNorm2d(512, eps=1e-05, momentum=0.1, affine=True, track_running_stats=True)\n",
       "        (relu): ReLU(inplace=True)\n",
       "        (conv2): Conv2d(512, 512, kernel_size=(3, 3), stride=(1, 1), padding=(1, 1), bias=False)\n",
       "        (bn2): BatchNorm2d(512, eps=1e-05, momentum=0.1, affine=True, track_running_stats=True)\n",
       "      )\n",
       "    )\n",
       "    (avgpool): AdaptiveAvgPool2d(output_size=(1, 1))\n",
       "    (fc): Linear(in_features=512, out_features=5, bias=True)\n",
       "  )\n",
       ")"
      ]
     },
     "execution_count": 36,
     "metadata": {},
     "output_type": "execute_result"
    }
   ],
   "source": [
    "num_cls = cfg.MODEL.N_CLASSES\n",
    "model_name = cfg.MODEL.NAME\n",
    "model = REGISTRY[model_name](num_classes=num_cls)\n",
    "checkpoint = torch.load(PATH)\n",
    "model.load_state_dict(checkpoint['model_state_dict'])\n",
    "model.to(DEVICE)\n",
    "model.eval()"
   ]
  },
  {
   "cell_type": "code",
   "execution_count": 37,
   "metadata": {},
   "outputs": [
    {
     "name": "stderr",
     "output_type": "stream",
     "text": [
      "100%|████████████████████████████████████████████████████████████████████████████████████████████████████████████████████████████████████████████████████████████████████████| 996/996 [00:37<00:00, 26.55it/s]\n"
     ]
    }
   ],
   "source": [
    "total_preds = []\n",
    "total_gt = []\n",
    "for batch in tqdm.tqdm(loader_test):\n",
    "    images = batch['image'].to(DEVICE)\n",
    "    preds = model(images)\n",
    "    preds = (preds >= 0.0).float().cpu().numpy()\n",
    "    total_preds.append(preds)\n",
    "    total_gt.append(batch['label'])\n",
    "\n",
    "y_pred = np.concatenate(total_preds, axis=0)\n",
    "y_true = np.concatenate(total_gt, axis=0)"
   ]
  },
  {
   "cell_type": "code",
   "execution_count": 38,
   "metadata": {},
   "outputs": [
    {
     "name": "stdout",
     "output_type": "stream",
     "text": [
      "                 precision    recall  f1-score   support\n",
      "\n",
      " access-control       0.71      0.63      0.67      2331\n",
      "     arithmetic       0.70      0.62      0.66      2708\n",
      "          other       0.70      0.70      0.70      4193\n",
      "     reentrancy       0.78      0.79      0.79      4838\n",
      "unchecked-calls       0.86      0.84      0.85      7276\n",
      "\n",
      "      micro avg       0.78      0.75      0.76     21346\n",
      "      macro avg       0.75      0.71      0.73     21346\n",
      "   weighted avg       0.78      0.75      0.76     21346\n",
      "    samples avg       0.49      0.49      0.48     21346\n",
      "\n"
     ]
    }
   ],
   "source": [
    "LABEL_NAMES = ['access-control', 'arithmetic', 'other', 'reentrancy', 'unchecked-calls']\n",
    "print(classification_report(y_true, y_pred, target_names=LABEL_NAMES, zero_division=0))"
   ]
  },
  {
   "cell_type": "code",
   "execution_count": 39,
   "metadata": {},
   "outputs": [
    {
     "data": {
      "image/png": "[encoded data removed]",
      "text/plain": [
       "<Figure size 1800x720 with 5 Axes>"
      ]
     },
     "metadata": {
      "needs_background": "light"
     },
     "output_type": "display_data"
    }
   ],
   "source": [
    "_, axs = plt.subplots(1, len(LABEL_NAMES), figsize=(25, 10))\n",
    "conf_mat_dict={}\n",
    "\n",
    "for label_col, ax in zip(range(len(LABEL_NAMES)), axs):\n",
    "    y_true_label = y_true[:, label_col]\n",
    "    y_pred_label = y_pred[:, label_col]\n",
    "    ax.set_title(\"Confusion matrix for label \" + LABEL_NAMES[label_col])\n",
    "    ConfusionMatrixDisplay.from_predictions(y_true_label, y_pred_label, ax=ax, cmap=plt.cm.Blues, normalize='true', colorbar=False)\n",
    "\n",
    "plt.show()"
   ]
  },
  {
   "cell_type": "code",
   "execution_count": null,
   "metadata": {},
   "outputs": [],
   "source": []
  }
 ],
 "metadata": {
  "kernelspec": {
   "display_name": "Python 3 (ipykernel)",
   "language": "python",
   "name": "python3"
  },
  "language_info": {
   "codemirror_mode": {
    "name": "ipython",
    "version": 3
   },
   "file_extension": ".py",
   "mimetype": "text/x-python",
   "name": "python",
   "nbconvert_exporter": "python",
   "pygments_lexer": "ipython3",
   "version": "3.8.13"
  },
  "vscode": {
   "interpreter": {
    "hash": "db1cc9ad4e9485405650762932d7415571cc14530bd4f6839bd14d356cc111e6"
   }
  }
 },
 "nbformat": 4,
 "nbformat_minor": 2
}
